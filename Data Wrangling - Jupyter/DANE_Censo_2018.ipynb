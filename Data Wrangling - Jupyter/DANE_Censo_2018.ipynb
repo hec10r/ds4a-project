{
 "cells": [
  {
   "cell_type": "code",
   "execution_count": 38,
   "metadata": {},
   "outputs": [],
   "source": [
    "import os\n",
    "import pandas as pd\n",
    "import numpy as np\n",
    "import geopandas as gpd\n",
    "from sqlalchemy import create_engine\n",
    "import matplotlib.pyplot as plt\n",
    "\n",
    "from shapely.geometry import Point\n",
    "\n",
    "pd.options.mode.chained_assignment = None\n",
    "pd.options.display.max_columns = None"
   ]
  },
  {
   "cell_type": "code",
   "execution_count": 39,
   "metadata": {},
   "outputs": [],
   "source": [
    "# ====== Connection ======\n",
    "# Connecting to PostgreSQL by providing a sqlachemy engine\n",
    "# Local\n",
    "local_username= 'ds4a_final'\n",
    "local_password='qwerty.123'\n",
    "local_host = 'localhost'\n",
    "local_port='5432'\n",
    "local_database = 'ds4a_finalproject'\n",
    "\n",
    "local_engine = create_engine(f'postgresql://{local_username}:{local_password}@{local_host}:{local_port}/{local_database}',echo=False)\n",
    "\n",
    "# Remote\n",
    "remote_username= 'final_project'\n",
    "remote_password='******'\n",
    "remote_host = '******'\n",
    "remote_port='5432'\n",
    "remote_database = 'ds4a_final'\n",
    "\n",
    "remote_engine = create_engine(f'postgresql://{remote_username}:{remote_password}@{remote_host}:{remote_port}/{remote_database}',echo=False)"
   ]
  },
  {
   "cell_type": "code",
   "execution_count": 3,
   "metadata": {},
   "outputs": [],
   "source": [
    "os.chdir(os.path.join('..'))"
   ]
  },
  {
   "cell_type": "code",
   "execution_count": 40,
   "metadata": {},
   "outputs": [],
   "source": [
    "basepath = os.getcwd()\n",
    "ds_path = os.path.join(basepath, 'datasets\\\\final\\\\')\n",
    "pj_path = os.path.join(basepath, 'final\\\\')"
   ]
  },
  {
   "cell_type": "code",
   "execution_count": 41,
   "metadata": {},
   "outputs": [],
   "source": [
    "# Read all information from datasets\n",
    "df_viv = pd.read_csv(os.path.join(ds_path,'raw\\\\DANE\\\\08_Atlantico\\\\CNPV2018_1VIV_A1_08.csv'), sep=',', dtype={'U_DPTO': str, 'U_MPIO': str} )\n",
    "df_hog = pd.read_csv(os.path.join(ds_path,'raw\\\\DANE\\\\08_Atlantico\\\\CNPV2018_2HOG_A1_08.csv'), sep=',', dtype={'U_DPTO': str, 'U_MPIO': str} )\n",
    "df_per = pd.read_csv(os.path.join(ds_path,'raw\\\\DANE\\\\08_Atlantico\\\\CNPV2018_5PER_A1_08.csv'), sep=',', dtype={'U_DPTO': str, 'U_MPIO': str} )\n",
    "df_mgn = pd.read_csv(os.path.join(ds_path,'raw\\\\DANE\\\\08_Atlantico\\\\CNPV2018_MGN_A1_08.csv'), sep=',', dtype={'U_DPTO': str, 'U_MPIO': str, 'UA_CLASE': str, 'UA1_LOCALIDAD': str, 'U_SECT_RUR': str, 'U_SECC_RUR': str, 'UA2_CPOB': str,'U_SECT_URB': str,'U_SECC_URB': str,'U_MZA': str } )\n",
    "df_sec = gpd.read_file(os.path.join(ds_path,'raw\\\\DANE\\\\MGN2017_08_ATLANTICO\\MGN\\\\MGN_URB_SECTOR.shp'))\n",
    "df_dane_barrio= pd.read_csv(os.path.join(ds_path,'processed\\\\neighborhood_dane.csv'), sep=',', dtype={'setu_ccnct':str})"
   ]
  },
  {
   "cell_type": "code",
   "execution_count": 42,
   "metadata": {},
   "outputs": [],
   "source": [
    "# All column names to lowercase\n",
    "df_viv.columns = map(str.lower, df_viv.columns)\n",
    "df_hog.columns = map(str.lower, df_hog.columns)\n",
    "df_per.columns = map(str.lower, df_per.columns)\n",
    "df_mgn.columns = map(str.lower, df_mgn.columns)\n",
    "df_sec.columns = map(str.lower, df_sec.columns)\n",
    "\n",
    "df_viv = df_viv[df_viv['u_mpio']=='001']\n",
    "df_hog = df_hog[df_hog['u_mpio']=='001']\n",
    "df_per = df_per[df_per['u_mpio']=='001']\n",
    "df_mgn = df_mgn[df_mgn['u_mpio']=='001']\n",
    "df_sec = df_sec[df_sec['mpio_ccdgo']=='08001']"
   ]
  },
  {
   "cell_type": "code",
   "execution_count": 43,
   "metadata": {},
   "outputs": [],
   "source": [
    "df_sec['mpio_ccdgo'] = df_sec['mpio_ccdgo'].apply(lambda data: data[2:])\n",
    "df_sec['cpob_ccdgo'] = df_sec['cpob_ccdgo'].apply(lambda data: data[5:])"
   ]
  },
  {
   "cell_type": "code",
   "execution_count": 44,
   "metadata": {},
   "outputs": [],
   "source": [
    "df_sec = pd.merge(df_sec, df_dane_barrio, on='setu_ccnct', how='inner') #152 records"
   ]
  },
  {
   "cell_type": "code",
   "execution_count": 53,
   "metadata": {
    "scrolled": true
   },
   "outputs": [],
   "source": [
    "df_sec['key'] = df_sec['dpto_ccdgo'] + df_sec['mpio_ccdgo'] +df_sec['clas_ccdgo'] + df_sec['setr_ccdgo']+ df_sec['secr_ccdgo']+ df_sec['cpob_ccdgo']+ df_sec['setu_ccdgo']\n",
    "df_mgn['key'] = df_mgn['u_dpto'] + df_mgn['u_mpio'] +df_mgn['ua_clase'] + df_mgn['u_sect_rur']+ df_mgn['u_secc_rur']+ df_mgn['ua2_cpob']+ df_mgn['u_sect_urb']\n",
    "\n",
    "df_match = pd.merge(df_mgn, df_sec, on='key', how='inner', suffixes=('_x', '_y') ) # 344463 records match - 2661 don't match"
   ]
  },
  {
   "cell_type": "code",
   "execution_count": 54,
   "metadata": {},
   "outputs": [],
   "source": [
    "df_match = df_match[['cod_encuestas', 'barrio_id']]\n",
    "df_match['barrio_id'] = df_match['barrio_id'].astype(int)"
   ]
  },
  {
   "cell_type": "code",
   "execution_count": 56,
   "metadata": {},
   "outputs": [],
   "source": [
    "#Ages\n",
    "bins= [1,2,3,4,5,6,7,8,9,10,11,12,13,14,15,16,17,18,19,20,21, 22]\n",
    "labels = ['P_00-04','P_05-09','P_10-14','P_15-19','P_20-24','P_25-29','P_30-34','P_35-39','P_40-44','P_45-49','P_50-54','P_55-59','P_60-64','P_65-69','P_70-74','P_75-79','P_80-84','P_85-89','P_90-94','P_95-99','P_100+']\n",
    "df_per['rango_edad'] = pd.cut(df_per['p_edad'], bins=bins, labels=labels, right=False)\n",
    "#Gender\n",
    "bins= [1,2,3]\n",
    "labels = ['Hombre', 'Mujer']\n",
    "df_per['sexo'] = pd.cut(df_per['p_sexo'], bins=bins, labels=labels, right=False)"
   ]
  },
  {
   "cell_type": "code",
   "execution_count": 57,
   "metadata": {
    "scrolled": true
   },
   "outputs": [],
   "source": [
    "df_vivienda = pd.merge(df_match, df_viv, on='cod_encuestas', how='inner')\n",
    "df_hogar = pd.merge(df_match, df_hog, on='cod_encuestas', how='inner')\n",
    "df_personas = pd.merge(df_match, df_per, on='cod_encuestas', how='inner')\n",
    "\n",
    "df_vivienda = df_vivienda.groupby('barrio_id').agg({'va1_estrato': 'mean'} ).reset_index(drop=False)\n",
    "df_hogar = df_hogar.groupby('barrio_id').agg({'ha_tot_per' : 'sum'}).reset_index(drop=False)\n",
    "df_personas = df_personas.groupby(['barrio_id', 'sexo', 'rango_edad']).agg({'p_nro_per' : 'count'}).reset_index(drop=False)"
   ]
  },
  {
   "cell_type": "code",
   "execution_count": 63,
   "metadata": {},
   "outputs": [],
   "source": [
    "from functools import reduce\n",
    "dfs = [df_vivienda,\n",
    "       df_hogar,\n",
    "       (df_personas.groupby('barrio_id').agg({'p_nro_per': 'sum'}).reset_index(drop=False).rename(columns={'p_nro_per':'total_personas'})),\n",
    "       (df_personas[df_personas['sexo'] == 'Hombre'].groupby('barrio_id').agg({'p_nro_per': 'sum'}).reset_index(drop=False).rename(columns={'p_nro_per':'total_hombres'})),\n",
    "       (df_personas[df_personas['sexo'] == 'Mujer'].groupby('barrio_id').agg({'p_nro_per': 'sum'}).reset_index(drop=False).rename(columns={'p_nro_per':'total_mujeres'}))\n",
    "      ]\n",
    "df_final = reduce(lambda left,right: pd.merge(left,right,on='barrio_id'), dfs)\n",
    "del df_final['ha_tot_per']\n",
    "df_final.to_sql(name='barrio_demografia', con=local_engine, if_exists = 'append', index=False)"
   ]
  },
  {
   "cell_type": "code",
   "execution_count": 66,
   "metadata": {},
   "outputs": [],
   "source": [
    "df_personas['detail_id'] = df_personas.index\n",
    "df_personas.to_sql(name='barrio_demografia_detail', con=local_engine, if_exists='append', index=False)"
   ]
  }
 ],
 "metadata": {
  "kernelspec": {
   "display_name": "Python 3",
   "language": "python",
   "name": "python3"
  },
  "language_info": {
   "codemirror_mode": {
    "name": "ipython",
    "version": 3
   },
   "file_extension": ".py",
   "mimetype": "text/x-python",
   "name": "python",
   "nbconvert_exporter": "python",
   "pygments_lexer": "ipython3",
   "version": "3.7.5"
  }
 },
 "nbformat": 4,
 "nbformat_minor": 2
}
