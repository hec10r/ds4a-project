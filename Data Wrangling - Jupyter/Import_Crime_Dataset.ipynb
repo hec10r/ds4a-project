{
 "cells": [
  {
   "cell_type": "code",
   "execution_count": 142,
   "metadata": {},
   "outputs": [],
   "source": [
    "import os\n",
    "import pandas as pd\n",
    "import numpy as np\n",
    "from sqlalchemy import create_engine\n",
    "\n",
    "import re\n",
    "from unicodedata import normalize\n",
    "import time\n",
    "import datetime\n",
    "\n",
    "import json\n",
    "from pandas.io.json import json_normalize\n",
    "\n",
    "#Import for similarity of strings\n",
    "import string\n",
    "\n",
    "import geopandas as gpd\n",
    "\n",
    "pd.options.mode.chained_assignment = None"
   ]
  },
  {
   "cell_type": "code",
   "execution_count": 30,
   "metadata": {},
   "outputs": [],
   "source": [
    "# ====== Connection ======\n",
    "# Connecting to PostgreSQL by providing a sqlachemy engine\n",
    "# Local\n",
    "username= 'ds4a_final'\n",
    "password='qwerty.123'\n",
    "host = 'localhost'\n",
    "port='5432'\n",
    "database = 'ds4a_finalproject'\n",
    "# Remote\n",
    "# username= 'final_project'\n",
    "# password='*******'\n",
    "# host = '*****'\n",
    "# port='5432'\n",
    "# database = 'ds4a_final'\n",
    "\n",
    "engine = create_engine(f'postgresql://{username}:{password}@{host}:{port}/{database}',echo=False)"
   ]
  },
  {
   "cell_type": "code",
   "execution_count": 3,
   "metadata": {},
   "outputs": [],
   "source": [
    "os.chdir(os.path.join('..')) #Run only once"
   ]
  },
  {
   "cell_type": "code",
   "execution_count": 7,
   "metadata": {},
   "outputs": [],
   "source": [
    "basepath = os.getcwd()\n",
    "ds_path = os.path.join(basepath, 'datasets\\\\final\\\\')\n",
    "pj_path = os.path.join(basepath, 'final\\\\')"
   ]
  },
  {
   "cell_type": "markdown",
   "metadata": {},
   "source": [
    "### NEIGHBORHOOD - MASTER DATA"
   ]
  },
  {
   "cell_type": "code",
   "execution_count": 33,
   "metadata": {},
   "outputs": [],
   "source": [
    "ds_barrios_poligono = os.path.join(ds_path, 'raw\\\\barriosbquilla.geojson') \n",
    "df_barrios = gpd.read_file(ds_barrios_poligono)\n",
    "df_barrios.columns = map(str.lower, df_barrios.columns)\n",
    "\n",
    "#Deleting unnecessary columns\n",
    "del df_barrios['name']\n",
    "del df_barrios['description']\n",
    "del df_barrios['id']\n",
    "del df_barrios['shape__are']\n",
    "del df_barrios['shape__len']\n",
    "del df_barrios['geometry']\n",
    "\n",
    "df_barrios = df_barrios[df_barrios['nombre'] != '']\n",
    "df_barrios['barrio_id'] = df_barrios.index\n",
    "df_barrios.to_sql(name='barrio', con=engine, if_exists = 'append', index=False)"
   ]
  },
  {
   "cell_type": "markdown",
   "metadata": {},
   "source": [
    "### CRIME DATASET"
   ]
  },
  {
   "cell_type": "code",
   "execution_count": 39,
   "metadata": {},
   "outputs": [],
   "source": [
    "def replaceValues(text):\n",
    "    dic = { '2010.0': 'Q',\n",
    "            '2011.0': 'Q',\n",
    "            '2012.0': 'Q',\n",
    "            'ARMA EMPLEADA': 'ARMAEMPLEADA',\n",
    "            'BARRIO': 'BARRIO',\n",
    "            'CANTIDAD': 'CANTIDAD',\n",
    "            'CLASE': 'CLASE',\n",
    "            'CLASE DE EMPLEADO': 'CLASEEMPLEADO',\n",
    "            'CLASE DE SITIO': 'CLASESITIO',\n",
    "            'CLASE EMPLEADO': 'CLASEEMPLEADO',\n",
    "            'CLASE EMPRESA': 'CLASEEMPRESA',\n",
    "            'CLASE SITIO': 'CLASESITIO',\n",
    "            'CODIGO DANE': 'CODIGODANE',\n",
    "            'COLOR': 'COLOR',\n",
    "            'CRIMEN': 'CRIMEN',\n",
    "            'DELITO': 'DELITO',\n",
    "            'DEPARTAMENTO': 'DEPARTAMENTO',\n",
    "            'DESCRIPCION CONDUCTA': 'DELITO',\n",
    "            'DIA': 'DIA',\n",
    "            'EDAD': 'EDAD',\n",
    "            'ESCOLARIDAD': 'ESCOLARIDAD',\n",
    "            'ESTADO CIVIL': 'ESTADOCIVIL',\n",
    "            'FECHA': 'FECHA',\n",
    "            'HORA': 'HORA',\n",
    "            'LINEA': 'LINEA',\n",
    "            'MARCA': 'MARCA',\n",
    "            'MODELO': 'MODELO',\n",
    "            'MOVIL AGRESOR': 'MOVILAGRESOR',\n",
    "            'MOVIL VICTIMA': 'MOVILVICTIMA',\n",
    "            'MUNICIPIO': 'MUNICIPIO',\n",
    "            'PAIS DE NACIMIENTO': 'PAISNACIMIENTO',\n",
    "            'PAIS NACE': 'PAISNACIMIENTO',\n",
    "            'PROFESION': 'PROFESION',\n",
    "            'PROFESIONES': 'PROFESION',\n",
    "            'SEXO': 'SEXO',\n",
    "            'ZONA': 'ZONA'}\n",
    "    \n",
    "    # -> NFD y eliminar diacríticos\n",
    "    text = re.sub(\n",
    "            r\"([^n\\u0300-\\u036f]|n(?!\\u0303(?![\\u0300-\\u036f])))[\\u0300-\\u036f]+\", r\"\\1\", \n",
    "            normalize( 'NFD', text), 0, re.I\n",
    "        )\n",
    "\n",
    "    # -> NFC\n",
    "    text = normalize( 'NFC', text ).upper().strip()\n",
    "    \n",
    "    #Returns the value of the dictionary in lower case\n",
    "    return dic[text].lower()"
   ]
  },
  {
   "cell_type": "code",
   "execution_count": 37,
   "metadata": {},
   "outputs": [],
   "source": [
    "ds_police_path = os.path.join(ds_path, 'raw\\\\National Police\\\\')\n",
    "\n",
    "filenames = []\n",
    "filenames = [entry for entry in os.listdir(ds_police_path) if os.path.isfile(os.path.join(ds_police_path, entry))]"
   ]
  },
  {
   "cell_type": "code",
   "execution_count": 41,
   "metadata": {
    "scrolled": true
   },
   "outputs": [],
   "source": [
    "df_crime = pd.DataFrame()\n",
    "for file in filenames:\n",
    "    raw_data = pd.read_excel(os.path.join(ds_police_path,file), header=None)\n",
    "    #print(file)\n",
    "    # looking for the header row\n",
    "    for i, row in raw_data.iterrows():\n",
    "        if row.notnull().all():\n",
    "            data = raw_data.iloc[(i+1):].reset_index(drop=True)\n",
    "            data.columns = list(raw_data.iloc[i].apply(lambda s: replaceValues(str(s)) ))\n",
    "            data['crimen'] = file[ 0 : file.rfind('-') ].upper()\n",
    "\n",
    "            data = data[ ( data['departamento'].str.strip() == 'ATLÁNTICO' ) & \n",
    "                         ( data['municipio'].str.strip() == 'BARRANQUILLA (CT)') ]\n",
    "            df_crime = pd.concat([df_crime, data], sort=True)\n",
    "            break\n",
    "df_crime.to_csv(os.path.join(ds_path, 'raw\\\\crime_all.csv') , header=True, index=False, sep=',') "
   ]
  },
  {
   "cell_type": "code",
   "execution_count": null,
   "metadata": {},
   "outputs": [],
   "source": [
    "dane_ds = os.path.join(basepath, 'Datasets/dane.csv')\n",
    "barrios_estrato_ds = os.path.join(basepath, 'Datasets/barrios_por_estrato.csv')"
   ]
  },
  {
   "cell_type": "code",
   "execution_count": 43,
   "metadata": {},
   "outputs": [],
   "source": [
    "df_tmp = df_crime.copy()"
   ]
  },
  {
   "cell_type": "markdown",
   "metadata": {},
   "source": [
    "#### DATA WRANGLING"
   ]
  },
  {
   "cell_type": "code",
   "execution_count": 67,
   "metadata": {
    "scrolled": true
   },
   "outputs": [],
   "source": [
    "#Para los siguientes crimenes no aplica la columna SEXO: HURTO A ENTIDADES FINANCIERAS, HURTO A ENTIDADES COMERCIALES\n",
    "#HURTO COMERCIO, TERRORISMO\n",
    "df_crime['sexo'].fillna('NO APLICA', inplace=True)\n",
    "df_crime['sexo'] = df_crime['sexo'].apply(lambda data: 'NO REPORTA' if (data == '-') | (data == 'NO REPORTADA') | (data == 'NO REPORTADO') else data )"
   ]
  },
  {
   "cell_type": "code",
   "execution_count": 68,
   "metadata": {},
   "outputs": [],
   "source": [
    "df_crime['color'].fillna('NO APLICA', inplace=True)\n",
    "df_crime['color'] = df_crime['color'].apply(lambda data: 'NO REPORTADO' if data == '-' else data )"
   ]
  },
  {
   "cell_type": "code",
   "execution_count": 69,
   "metadata": {},
   "outputs": [],
   "source": [
    "df_crime['linea'].fillna('NO APLICA', inplace=True)\n",
    "df_crime['linea'] = df_crime['linea'].apply(lambda data: 'NO REPORTADO' if data == '-' else data )"
   ]
  },
  {
   "cell_type": "code",
   "execution_count": 70,
   "metadata": {},
   "outputs": [],
   "source": [
    "df_crime['modelo'].fillna('NO APLICA', inplace=True)\n",
    "df_crime['modelo'] = df_crime['modelo'].apply(lambda data: 'NO REPORTADO' if data == '-' else data )\n",
    "df_crime['modelo'] = df_crime['modelo'].apply(lambda data: 'NO REPORTADO' if data == 'X' else data )"
   ]
  },
  {
   "cell_type": "code",
   "execution_count": 71,
   "metadata": {},
   "outputs": [],
   "source": [
    "df_crime['marca'].fillna('NO APLICA', inplace=True)\n",
    "df_crime['marca'] = df_crime['marca'].apply(lambda data: 'NO REPORTADO' if data == '-' else data )"
   ]
  },
  {
   "cell_type": "code",
   "execution_count": 72,
   "metadata": {},
   "outputs": [],
   "source": [
    "df_crime['armaempleada'] = df_crime['armaempleada'].apply(lambda data: 'NO REPORTADO' if data == '-' else data )"
   ]
  },
  {
   "cell_type": "code",
   "execution_count": 73,
   "metadata": {},
   "outputs": [],
   "source": [
    "df_crime['barrio'].fillna('NO REPORTADO', inplace=True)\n",
    "df_crime['barrio'] = df_crime['barrio'].apply(lambda data: 'NO REPORTADO' if data == '-' else data )"
   ]
  },
  {
   "cell_type": "code",
   "execution_count": 74,
   "metadata": {},
   "outputs": [],
   "source": [
    "df_crime['cantidad'].fillna(0, inplace=True)"
   ]
  },
  {
   "cell_type": "code",
   "execution_count": 75,
   "metadata": {},
   "outputs": [],
   "source": [
    "df_crime['clase'].fillna('NO APLICA', inplace=True) #Solo aplica a vehiculos o motos"
   ]
  },
  {
   "cell_type": "code",
   "execution_count": 76,
   "metadata": {},
   "outputs": [],
   "source": [
    "#'HURTO COMERCIO', 'HURTO A ENTIDADES COMERCIALES', 'HURTO A ENTIDADES FINANCIERAS', 'TERRORISMO'\n",
    "df_crime['claseempleado'].fillna('NO APLICA', inplace=True) \n",
    "df_crime['claseempleado'] = df_crime['claseempleado'].apply(lambda data: 'NO REPORTADO' if data == '-' else data )"
   ]
  },
  {
   "cell_type": "code",
   "execution_count": 77,
   "metadata": {},
   "outputs": [],
   "source": [
    "#Solo aplica a 'HURTO A ENTIDADES COMERCIALES'\n",
    "df_crime['claseempresa'].fillna('NO APLICA', inplace=True) "
   ]
  },
  {
   "cell_type": "code",
   "execution_count": 78,
   "metadata": {},
   "outputs": [],
   "source": [
    "#Solo aplica a 'DELITOS SEXUALES', 'TERRORISMO'\n",
    "df_crime['delito'].fillna('NO APLICA', inplace=True) "
   ]
  },
  {
   "cell_type": "code",
   "execution_count": 80,
   "metadata": {},
   "outputs": [],
   "source": [
    "# 'HURTO COMERCIO', 'HURTO A ENTIDADES COMERCIALES', 'HURTO A ENTIDADES FINANCIERAS', 'TERRORISMO'\n",
    "df_crime['edad'].fillna('-1', inplace=True) #Se aplica -1 a los crimenes que no aplican\n",
    "#Se establece NaN a aquellos valores que deberán recalcularse\n",
    "df_crime['edad'] = df_crime['edad'].apply(lambda data: np.NaN if data == 'NO REPORTADA' else data )\n",
    "df_crime['edad'] = df_crime['edad'].apply(lambda data: np.NaN if data == 'NOREPORTADO' else data )\n",
    "df_crime['edad'] = df_crime['edad'].apply(lambda data: np.NaN if data == 'NO REPORTADO' else data )\n",
    "df_crime['edad'] = df_crime['edad'].apply(lambda data: np.NaN if data == '-' else data )\n",
    "df_crime['edad'] = df_crime['edad'].apply(lambda data: np.NaN if data == '-' else data )\n",
    "\n",
    "df_crime['edad'] = pd.to_numeric(df_crime['edad'], downcast='integer')\n",
    "\n",
    "#PENDIENTE REALIZAR LA INTERPOLACION PARA HALLAR LOS VALORES DE LOS NULOS (Los que aparecian como información NO REPORTADA)"
   ]
  },
  {
   "cell_type": "code",
   "execution_count": 81,
   "metadata": {},
   "outputs": [],
   "source": [
    "#'HURTO COMERCIO', 'HURTO A ENTIDADES COMERCIALES','HURTO A ENTIDADES FINANCIERAS', 'TERRORISMO'\n",
    "df_crime['escolaridad'].fillna('NO APLICA', inplace=True) \n",
    "df_crime['escolaridad'] = df_crime['escolaridad'].apply(lambda data: 'NO REPORTADO' if data == '-' else data )\n",
    "df_crime['escolaridad'] = df_crime['escolaridad'].apply(lambda data: 'NO REPORTADO' if data == 'NO REPORTADA' else data )\n",
    "df_crime['escolaridad'] = df_crime['escolaridad'].apply(lambda data: 'NO REPORTADO' if data == 'NOREPORTADO' else data )"
   ]
  },
  {
   "cell_type": "code",
   "execution_count": 82,
   "metadata": {},
   "outputs": [],
   "source": [
    "df_crime['estadocivil'].fillna('NO APLICA', inplace=True)  #'HURTO COMERCIO', 'HURTO A ENTIDADES COMERCIALES','HURTO A ENTIDADES FINANCIERAS', 'TERRORISMO'\n",
    "df_crime['estadocivil'] = df_crime['estadocivil'].apply(lambda data: 'NO REPORTADO' if data == '-' else data )\n",
    "df_crime['estadocivil'] = df_crime['estadocivil'].apply(lambda data: 'NO REPORTADO' if data == 'NO REPORTADA' else data )\n",
    "df_crime['estadocivil'] = df_crime['estadocivil'].apply(lambda data: 'NO REPORTADO' if data == 'NO REPORTA' else data )\n",
    "df_crime['estadocivil'] = df_crime['estadocivil'].apply(lambda data: 'NO REPORTADO' if data == 'NOREPORTADO' else data )"
   ]
  },
  {
   "cell_type": "code",
   "execution_count": 83,
   "metadata": {},
   "outputs": [],
   "source": [
    "def convert_to_time (field): \n",
    "    if(isinstance(field, datetime.time)):\n",
    "        result = field\n",
    "    else:\n",
    "        result = datetime.datetime.strptime(time.strftime('%H:%M:%S', time.gmtime(float(field) * 3600 )), '%H:%M:%S').time()\n",
    "    return result\n",
    "\n",
    "df_crime['hora'] = df_crime.apply(lambda row: convert_to_time(row['hora']), axis=1)"
   ]
  },
  {
   "cell_type": "code",
   "execution_count": 95,
   "metadata": {},
   "outputs": [],
   "source": [
    "df_crime['fecha_hora'] = df_crime.apply(lambda row: datetime.datetime.combine(row['fecha'], row['hora']), axis=1)"
   ]
  },
  {
   "cell_type": "code",
   "execution_count": 84,
   "metadata": {},
   "outputs": [],
   "source": [
    "df_crime['movilagresor'] = df_crime['movilagresor'].apply(lambda data: 'NO REPORTADO' if data == '-' else data )\n",
    "df_crime['movilagresor'] = df_crime['movilagresor'].apply(lambda data: 'NO REPORTADO' if data == 'NOREPORTADO' else data )"
   ]
  },
  {
   "cell_type": "code",
   "execution_count": 85,
   "metadata": {},
   "outputs": [],
   "source": [
    "df_crime['movilvictima'] = df_crime['movilvictima'].apply(lambda data: 'NO REPORTADO' if data == '-' else data )\n",
    "df_crime['movilvictima'] = df_crime['movilvictima'].apply(lambda data: 'NO REPORTADO' if data == 'NOREPORTADO' else data )"
   ]
  },
  {
   "cell_type": "code",
   "execution_count": 86,
   "metadata": {},
   "outputs": [],
   "source": [
    "df_crime['paisnacimiento'].fillna('NO APLICA', inplace=True) \n",
    "df_crime['paisnacimiento'] = df_crime['paisnacimiento'].apply(lambda data: 'NO REPORTADO' if data == '-' else data )\n",
    "df_crime['paisnacimiento'] = df_crime['paisnacimiento'].apply(lambda data: 'NO REPORTADO' if data == 'NOREPORTADO' else data )\n",
    "df_crime['paisnacimiento'] = df_crime['paisnacimiento'].apply(lambda data: 'NO REPORTADO' if data == 'NO REPORTA' else data )"
   ]
  },
  {
   "cell_type": "code",
   "execution_count": 87,
   "metadata": {},
   "outputs": [],
   "source": [
    "#'HURTO COMERCIO' 'HURTO A ENTIDADES COMERCIALES'  'HURTO A ENTIDADES FINANCIERAS' \n",
    "#'HOMICIDIOS EN ACCIDENTES DE TRANSITO' 'TERRORISMO'\n",
    "df_crime['profesion'].fillna('NO APLICA', inplace=True) \n",
    "df_crime['profesion'] = df_crime['profesion'].apply(lambda data: 'NO REPORTADO' if data == '-' else data )\n",
    "df_crime['profesion'] = df_crime['profesion'].apply(lambda data: 'NO REPORTADO' if data == 'NOREPORTADO' else data )\n",
    "df_crime['profesion'] = df_crime['profesion'].apply(lambda data: 'NO REPORTADO' if data == 'NO REPORTADA' else data )"
   ]
  },
  {
   "cell_type": "code",
   "execution_count": 56,
   "metadata": {},
   "outputs": [],
   "source": [
    "dict_crimen = {'HOMICIDIOS ACCIDENTES TRANSITO': 'HOMICIDIOS EN ACCIDENTES DE TRANSITO',\n",
    "               'HUTO DE MOTOCICLETAS': 'HURTO DE MOTOCICLETAS',\n",
    "               'LESIONES EN ACCIDENTES DE TRANSITO': 'LESIONES ACCIDENTES TRANSITO'}\n",
    "\n",
    "df_crime['crimen'] = df_crime['crimen'].apply(lambda st: st.replace('-', ' ')\\\n",
    "                                                           .replace('2010', '')\\\n",
    "                                                           .replace('2011', '')\\\n",
    "                                                           .replace('2012', '')\\\n",
    "                                                           .replace('2019', '')\\\n",
    "                                                           .replace('_', '')\\\n",
    "                                                           .strip())\n",
    "\n",
    "df_crime['crimen'] = df_crime['crimen'].apply(lambda data: dict_crimen[data] if data in dict_crimen.keys() else data)\n",
    "\n",
    "#Creating dictionary of crime types\n",
    "df_crime_type = pd.DataFrame(df_crime['crimen'].drop_duplicates().reset_index(drop=True))\n",
    "df_crime_type['crime_type_id'] = df_crime_type.index\n",
    "dct_crime_type = {}\n",
    "for index, row in df_crime_type.iterrows():\n",
    "    dct_crime_type[row['crimen']] = index\n",
    "\n",
    "#Saving data to database\n",
    "df_crime_type.to_sql(name='crime_type', con=engine, if_exists = 'append', index=False)"
   ]
  },
  {
   "cell_type": "code",
   "execution_count": 113,
   "metadata": {},
   "outputs": [],
   "source": [
    "ds_barrio_convencion = os.path.join(ds_path, 'processed\\\\neighborhood_convention.csv') \n",
    "df_barrio_convencion = pd.read_csv(ds_barrio_convencion)\n",
    "df_barrio_convencion['barrio_convencion_id'] = df_barrio_convencion.index\n",
    "df_barrio_convencion.to_sql(name='barrio_convencion', con=engine, if_exists = 'append', index=False)"
   ]
  },
  {
   "cell_type": "code",
   "execution_count": 120,
   "metadata": {},
   "outputs": [],
   "source": [
    "dct_barrio = {}\n",
    "for index, row in df_barrio_convencion.iterrows():\n",
    "    dct_barrio[row['nombre_barrio']] = row['barrio_id']"
   ]
  },
  {
   "cell_type": "code",
   "execution_count": 65,
   "metadata": {},
   "outputs": [],
   "source": [
    "df_crime['crime_type_id'] = df_crime['crimen'].apply(lambda data: dct_crime_type[data])"
   ]
  },
  {
   "cell_type": "code",
   "execution_count": null,
   "metadata": {
    "scrolled": false
   },
   "outputs": [],
   "source": [
    "def search_neighborhood(neighborhood, dct):\n",
    "    neighborhood_id = np.NaN\n",
    "    if (neighborhood in dct):\n",
    "        neighborhood_id = dct[neighborhood]\n",
    "    return neighborhood_id\n",
    "\n",
    "df_crime['barrio_id'] = df_crime['barrio'].apply(lambda data: search_neighborhood(data, dct_barrio))\n",
    "df_crime = df_crime[~df_crime['barrio_id'].isna()]"
   ]
  },
  {
   "cell_type": "code",
   "execution_count": 168,
   "metadata": {},
   "outputs": [],
   "source": [
    "df_crime.reset_index(drop=True, inplace=True)\n",
    "df_crime['crime_id'] = df_crime.index"
   ]
  },
  {
   "cell_type": "code",
   "execution_count": 169,
   "metadata": {},
   "outputs": [
    {
     "data": {
      "text/html": [
       "<div>\n",
       "<style scoped>\n",
       "    .dataframe tbody tr th:only-of-type {\n",
       "        vertical-align: middle;\n",
       "    }\n",
       "\n",
       "    .dataframe tbody tr th {\n",
       "        vertical-align: top;\n",
       "    }\n",
       "\n",
       "    .dataframe thead th {\n",
       "        text-align: right;\n",
       "    }\n",
       "</style>\n",
       "<table border=\"1\" class=\"dataframe\">\n",
       "  <thead>\n",
       "    <tr style=\"text-align: right;\">\n",
       "      <th></th>\n",
       "      <th>armaempleada</th>\n",
       "      <th>cantidad</th>\n",
       "      <th>clase</th>\n",
       "      <th>claseempleado</th>\n",
       "      <th>claseempresa</th>\n",
       "      <th>clasesitio</th>\n",
       "      <th>color</th>\n",
       "      <th>delito</th>\n",
       "      <th>edad</th>\n",
       "      <th>escolaridad</th>\n",
       "      <th>...</th>\n",
       "      <th>movilagresor</th>\n",
       "      <th>movilvictima</th>\n",
       "      <th>paisnacimiento</th>\n",
       "      <th>profesion</th>\n",
       "      <th>sexo</th>\n",
       "      <th>zona</th>\n",
       "      <th>crime_type_id</th>\n",
       "      <th>fecha_hora</th>\n",
       "      <th>barrio_id</th>\n",
       "      <th>crime_id</th>\n",
       "    </tr>\n",
       "  </thead>\n",
       "  <tbody>\n",
       "    <tr>\n",
       "      <th>0</th>\n",
       "      <td>ARMA DE FUEGO</td>\n",
       "      <td>1</td>\n",
       "      <td>NO APLICA</td>\n",
       "      <td>INDEPENDIENTE</td>\n",
       "      <td>NO APLICA</td>\n",
       "      <td>TROCHA</td>\n",
       "      <td>NO APLICA</td>\n",
       "      <td>NO APLICA</td>\n",
       "      <td>46</td>\n",
       "      <td>SECUNDARIA</td>\n",
       "      <td>...</td>\n",
       "      <td>A PIE</td>\n",
       "      <td>A PIE</td>\n",
       "      <td>COLOMBIA</td>\n",
       "      <td>NO REPORTADO</td>\n",
       "      <td>FEMENINO</td>\n",
       "      <td>URBANA</td>\n",
       "      <td>0</td>\n",
       "      <td>2012-10-04 03:00:00</td>\n",
       "      <td>97</td>\n",
       "      <td>0</td>\n",
       "    </tr>\n",
       "  </tbody>\n",
       "</table>\n",
       "<p>1 rows × 24 columns</p>\n",
       "</div>"
      ],
      "text/plain": [
       "    armaempleada  cantidad      clase  claseempleado claseempresa clasesitio  \\\n",
       "0  ARMA DE FUEGO         1  NO APLICA  INDEPENDIENTE    NO APLICA     TROCHA   \n",
       "\n",
       "       color     delito  edad escolaridad  ... movilagresor movilvictima  \\\n",
       "0  NO APLICA  NO APLICA    46  SECUNDARIA  ...        A PIE        A PIE   \n",
       "\n",
       "  paisnacimiento     profesion      sexo    zona crime_type_id  \\\n",
       "0       COLOMBIA  NO REPORTADO  FEMENINO  URBANA             0   \n",
       "\n",
       "           fecha_hora barrio_id crime_id  \n",
       "0 2012-10-04 03:00:00        97        0  \n",
       "\n",
       "[1 rows x 24 columns]"
      ]
     },
     "execution_count": 169,
     "metadata": {},
     "output_type": "execute_result"
    }
   ],
   "source": [
    "df_crime[df_crime['crime_id']==0]"
   ]
  },
  {
   "cell_type": "code",
   "execution_count": 170,
   "metadata": {},
   "outputs": [],
   "source": [
    "df_crime.to_sql(name='crime', con=engine, if_exists = 'append', index=False)"
   ]
  },
  {
   "cell_type": "code",
   "execution_count": 98,
   "metadata": {},
   "outputs": [],
   "source": [
    "#Delete unnecessary columns from the dataframe\n",
    "del df_crime['crimen']\n",
    "del df_crime['codigodane']\n",
    "del df_crime['municipio']\n",
    "del df_crime['q']\n",
    "del df_crime['dia']\n",
    "del df_crime['fecha']\n",
    "del df_crime['hora']\n",
    "del df_crime['departamento']\n",
    "del df_crime['barrio']"
   ]
  },
  {
   "cell_type": "code",
   "execution_count": 171,
   "metadata": {},
   "outputs": [
    {
     "data": {
      "text/plain": [
       "armaempleada      False\n",
       "cantidad          False\n",
       "clase             False\n",
       "claseempleado     False\n",
       "claseempresa      False\n",
       "clasesitio        False\n",
       "color             False\n",
       "delito            False\n",
       "edad              False\n",
       "escolaridad       False\n",
       "estadocivil       False\n",
       "linea             False\n",
       "marca             False\n",
       "modelo            False\n",
       "movilagresor      False\n",
       "movilvictima      False\n",
       "paisnacimiento    False\n",
       "profesion         False\n",
       "sexo              False\n",
       "zona              False\n",
       "crime_type_id     False\n",
       "fecha_hora        False\n",
       "barrio_id         False\n",
       "crime_id          False\n",
       "dtype: bool"
      ]
     },
     "execution_count": 171,
     "metadata": {},
     "output_type": "execute_result"
    }
   ],
   "source": [
    "df_crime.isna().any()"
   ]
  }
 ],
 "metadata": {
  "kernelspec": {
   "display_name": "Python 3",
   "language": "python",
   "name": "python3"
  },
  "language_info": {
   "codemirror_mode": {
    "name": "ipython",
    "version": 3
   },
   "file_extension": ".py",
   "mimetype": "text/x-python",
   "name": "python",
   "nbconvert_exporter": "python",
   "pygments_lexer": "ipython3",
   "version": "3.7.5"
  }
 },
 "nbformat": 4,
 "nbformat_minor": 2
}
