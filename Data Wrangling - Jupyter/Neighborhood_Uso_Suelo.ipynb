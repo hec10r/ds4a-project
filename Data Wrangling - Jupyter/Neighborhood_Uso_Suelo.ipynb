{
 "cells": [
  {
   "cell_type": "code",
   "execution_count": 1,
   "metadata": {},
   "outputs": [],
   "source": [
    "import os\n",
    "import pandas as pd\n",
    "import numpy as np\n",
    "from sqlalchemy import create_engine\n",
    "\n",
    "import time\n",
    "import datetime\n",
    "\n",
    "import geopandas as gpd\n",
    "\n",
    "pd.options.mode.chained_assignment = None"
   ]
  },
  {
   "cell_type": "code",
   "execution_count": 2,
   "metadata": {},
   "outputs": [],
   "source": [
    "# ====== Connection ======\n",
    "# Connecting to PostgreSQL by providing a sqlachemy engine\n",
    "# Local\n",
    "local_username= 'ds4a_final'\n",
    "local_password='qwerty.123'\n",
    "local_host = 'localhost'\n",
    "local_port='5432'\n",
    "local_database = 'ds4a_finalproject'\n",
    "\n",
    "local_engine = create_engine(f'postgresql://{local_username}:{local_password}@{local_host}:{local_port}/{local_database}',echo=False)\n",
    "\n",
    "# Remote\n",
    "remote_username= 'final_project'\n",
    "remote_password='*******'\n",
    "remote_host = '*******'\n",
    "remote_port='5432'\n",
    "remote_database = 'ds4a_final'\n",
    "\n",
    "remote_engine = create_engine(f'postgresql://{remote_username}:{remote_password}@{remote_host}:{remote_port}/{remote_database}',echo=False)"
   ]
  },
  {
   "cell_type": "code",
   "execution_count": 3,
   "metadata": {},
   "outputs": [],
   "source": [
    "os.chdir(os.path.join('..\\..')) #Run only once"
   ]
  },
  {
   "cell_type": "code",
   "execution_count": 4,
   "metadata": {},
   "outputs": [],
   "source": [
    "basepath = os.getcwd()\n",
    "ds_path = os.path.join(basepath, 'datasets\\\\final\\\\')\n",
    "pj_path = os.path.join(basepath, 'final\\\\')"
   ]
  },
  {
   "cell_type": "code",
   "execution_count": 5,
   "metadata": {},
   "outputs": [],
   "source": [
    "ds_suelos = os.path.join(ds_path, 'processed\\\\Nei_UsoSuelo.csv')\n",
    "df_suelos = pd.read_csv(ds_suelos, dtype={'SETU_CCNCT': str})\n",
    "\n",
    "ds_barrio_dane = os.path.join(ds_path, 'processed\\\\neighborhood_dane.csv')\n",
    "df_barrio_dane = pd.read_csv(ds_barrio_dane, dtype={'setu_ccnct': str})"
   ]
  },
  {
   "cell_type": "markdown",
   "metadata": {},
   "source": [
    "### Create table Neighborhood - DANE"
   ]
  },
  {
   "cell_type": "code",
   "execution_count": 6,
   "metadata": {},
   "outputs": [],
   "source": [
    "df_barrio_dane['barrio_dane_id'] = df_barrio_dane.index\n",
    "df_barrio_dane.to_sql(name='barrio_dane', con=local_engine, if_exists = 'replace', index=False)"
   ]
  },
  {
   "cell_type": "code",
   "execution_count": 7,
   "metadata": {},
   "outputs": [],
   "source": [
    "df_suelos.columns = map(str.lower, df_suelos.columns)\n",
    "df_suelos.columns = map( lambda s: s.replace(' ', '_').strip(), df_suelos.columns )"
   ]
  },
  {
   "cell_type": "code",
   "execution_count": 8,
   "metadata": {
    "scrolled": true
   },
   "outputs": [],
   "source": [
    "dct_barrio_dane = {}\n",
    "for index, row in df_barrio_dane.iterrows():\n",
    "    dct_barrio_dane[row['setu_ccnct']] = row['barrio_id']\n",
    "\n",
    "df_suelos['barrio_id'] = df_suelos['setu_ccnct'].apply(lambda data: (dct_barrio_dane[data] if data in dct_barrio_dane else np.nan))\n",
    "df_suelos.dropna(inplace=True)\n",
    "df_suelos['barrio_id'] = df_suelos['barrio_id'].astype(int)"
   ]
  },
  {
   "cell_type": "code",
   "execution_count": 9,
   "metadata": {},
   "outputs": [],
   "source": [
    "del df_suelos['_']\n",
    "df_suelos.rename(columns={'unnamed:_0' : 'barrio_suelo_id'}, inplace=True)\n",
    "del df_suelos['setu_ccnct']"
   ]
  },
  {
   "cell_type": "code",
   "execution_count": 10,
   "metadata": {},
   "outputs": [],
   "source": [
    "df_suelos.to_sql(name='barrio_suelo', con=local_engine, if_exists = 'replace', index=False)"
   ]
  },
  {
   "cell_type": "code",
   "execution_count": 40,
   "metadata": {},
   "outputs": [],
   "source": [
    "#Loading all local data\n",
    "df_barrio = pd.read_sql(\"SELECT * from barrio\", local_engine.connect())\n",
    "df_barrio_convencion = pd.read_sql(\"SELECT * from barrio_convencion\", local_engine.connect())\n",
    "df_crime_type= pd.read_sql(\"SELECT * from crime_type\", local_engine.connect())\n",
    "df_barrio_estrato = pd.read_sql(\"SELECT * from barrio_estrato\", local_engine.connect())\n",
    "df_barrio_suelo= pd.read_sql(\"SELECT * from barrio_suelo\", local_engine.connect())\n",
    "df_crime = pd.read_sql(\"SELECT * from crime\", local_engine.connect())"
   ]
  },
  {
   "cell_type": "code",
   "execution_count": null,
   "metadata": {},
   "outputs": [],
   "source": [
    "df_barrio.to_sql(name='barrio', con=remote_engine, if_exists = 'append', index=False)\n",
    "df_barrio_convencion.to_sql(name='barrio_convencion', con=remote_engine, if_exists = 'append', index=False)\n",
    "df_crime_type.to_sql(name='crime_type', con=remote_engine, if_exists = 'append', index=False)\n",
    "df_barrio_estrato.to_sql(name='barrio_estrato', con=remote_engine, if_exists = 'append', index=False)\n",
    "df_barrio_suelo.to_sql(name='barrio_suelo', con=remote_engine, if_exists = 'append', index=False)\n",
    "df_crime.to_sql(name='crime', con=remote_engine, if_exists = 'append', index=False)"
   ]
  }
 ],
 "metadata": {
  "kernelspec": {
   "display_name": "Python 3",
   "language": "python",
   "name": "python3"
  },
  "language_info": {
   "codemirror_mode": {
    "name": "ipython",
    "version": 3
   },
   "file_extension": ".py",
   "mimetype": "text/x-python",
   "name": "python",
   "nbconvert_exporter": "python",
   "pygments_lexer": "ipython3",
   "version": "3.7.5"
  }
 },
 "nbformat": 4,
 "nbformat_minor": 2
}
