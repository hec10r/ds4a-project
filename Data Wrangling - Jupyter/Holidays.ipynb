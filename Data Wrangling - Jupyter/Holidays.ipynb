{
 "cells": [
  {
   "cell_type": "code",
   "execution_count": 1,
   "metadata": {},
   "outputs": [],
   "source": [
    "import os\n",
    "import pandas as pd\n",
    "import numpy as np\n",
    "from sqlalchemy import create_engine\n",
    "\n",
    "pd.options.mode.chained_assignment = None\n",
    "pd.options.display.max_columns = None"
   ]
  },
  {
   "cell_type": "code",
   "execution_count": 2,
   "metadata": {},
   "outputs": [],
   "source": [
    "# ====== Connection ======\n",
    "# Connecting to PostgreSQL by providing a sqlachemy engine\n",
    "# Local\n",
    "local_username= 'ds4a_final'\n",
    "local_password='qwerty.123'\n",
    "local_host = 'localhost'\n",
    "local_port='5432'\n",
    "local_database = 'ds4a_finalproject'\n",
    "\n",
    "local_engine = create_engine(f'postgresql://{local_username}:{local_password}@{local_host}:{local_port}/{local_database}',echo=False)\n",
    "\n",
    "# Remote\n",
    "remote_username= 'final_project'\n",
    "remote_password='******'\n",
    "remote_host = '******'\n",
    "remote_port='5432'\n",
    "remote_database = 'ds4a_final'\n",
    "\n",
    "remote_engine = create_engine(f'postgresql://{remote_username}:{remote_password}@{remote_host}:{remote_port}/{remote_database}',echo=False)"
   ]
  },
  {
   "cell_type": "code",
   "execution_count": 3,
   "metadata": {},
   "outputs": [],
   "source": [
    "os.chdir(os.path.join('..\\..'))"
   ]
  },
  {
   "cell_type": "code",
   "execution_count": 4,
   "metadata": {},
   "outputs": [],
   "source": [
    "basepath = os.getcwd()\n",
    "ds_path = os.path.join(basepath, 'datasets\\\\final\\\\')\n",
    "pj_path = os.path.join(basepath, 'final\\\\')"
   ]
  },
  {
   "cell_type": "code",
   "execution_count": 5,
   "metadata": {},
   "outputs": [],
   "source": [
    "# Read all information from datasets\n",
    "df_holidays = pd.read_csv(os.path.join(ds_path,'processed\\\\holiday.csv'), sep=';', parse_dates=['fecha'],  dtype={'festivo': bool}, encoding='latin-1', )"
   ]
  },
  {
   "cell_type": "code",
   "execution_count": 6,
   "metadata": {},
   "outputs": [],
   "source": [
    "df_holidays.to_sql(name='calendario', con=local_engine, if_exists='replace', index=False)"
   ]
  }
 ],
 "metadata": {
  "kernelspec": {
   "display_name": "Python 3",
   "language": "python",
   "name": "python3"
  },
  "language_info": {
   "codemirror_mode": {
    "name": "ipython",
    "version": 3
   },
   "file_extension": ".py",
   "mimetype": "text/x-python",
   "name": "python",
   "nbconvert_exporter": "python",
   "pygments_lexer": "ipython3",
   "version": "3.7.5"
  }
 },
 "nbformat": 4,
 "nbformat_minor": 2
}
